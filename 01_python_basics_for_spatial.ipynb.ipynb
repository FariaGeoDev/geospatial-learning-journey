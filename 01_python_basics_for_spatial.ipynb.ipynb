{
 "cells": [
  {
   "cell_type": "code",
   "execution_count": 1,
   "id": "c23dc89f-173f-4418-9d2f-442cfb9d8a95",
   "metadata": {},
   "outputs": [
    {
     "name": "stdout",
     "output_type": "stream",
     "text": [
      "Coordinates of Lagos: (6.5244, 3.3792)\n",
      "Nairobi: (-1.2921, 36.8219)\n",
      "Cairo: (30.0444, 31.2357)\n",
      "Cape Town: (-33.9249, 18.4241)\n"
     ]
    }
   ],
   "source": [
    "# Variables\n",
    "latitude = 6.5244\n",
    "longitude = 3.3792\n",
    "print(f\"Coordinates of Lagos: ({latitude}, {longitude})\")\n",
    "\n",
    "# List of cities\n",
    "cities = [\n",
    "    {\"name\": \"Nairobi\", \"lat\": -1.2921, \"lon\": 36.8219},\n",
    "    {\"name\": \"Cairo\", \"lat\": 30.0444, \"lon\": 31.2357},\n",
    "    {\"name\": \"Cape Town\", \"lat\": -33.9249, \"lon\": 18.4241}\n",
    "]\n",
    "\n",
    "for city in cities:\n",
    "    print(f\"{city['name']}: ({city['lat']}, {city['lon']})\")\n"
   ]
  },
  {
   "cell_type": "code",
   "execution_count": null,
   "id": "690f5242-010f-403a-a21a-07bd96cc4558",
   "metadata": {},
   "outputs": [],
   "source": []
  }
 ],
 "metadata": {
  "kernelspec": {
   "display_name": "Python 3 (ipykernel)",
   "language": "python",
   "name": "python3"
  },
  "language_info": {
   "codemirror_mode": {
    "name": "ipython",
    "version": 3
   },
   "file_extension": ".py",
   "mimetype": "text/x-python",
   "name": "python",
   "nbconvert_exporter": "python",
   "pygments_lexer": "ipython3",
   "version": "3.13.5"
  }
 },
 "nbformat": 4,
 "nbformat_minor": 5
}
